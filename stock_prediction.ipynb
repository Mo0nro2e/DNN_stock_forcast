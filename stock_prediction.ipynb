{
  "nbformat": 4,
  "nbformat_minor": 0,
  "metadata": {
    "colab": {
      "name": "Untitled3.ipynb",
      "provenance": [],
      "authorship_tag": "ABX9TyNjUvGuapoF+5pV+LKUIel3",
      "include_colab_link": true
    },
    "kernelspec": {
      "name": "python3",
      "display_name": "Python 3"
    }
  },
  "cells": [
    {
      "cell_type": "markdown",
      "metadata": {
        "id": "view-in-github",
        "colab_type": "text"
      },
      "source": [
        "<a href=\"https://colab.research.google.com/github/Mo0nro2e/DNN_stock_forcast/blob/master/stock_prediction.ipynb\" target=\"_parent\"><img src=\"https://colab.research.google.com/assets/colab-badge.svg\" alt=\"Open In Colab\"/></a>"
      ]
    },
    {
      "cell_type": "code",
      "metadata": {
        "id": "Pe_5ViNwb_jE",
        "colab_type": "code",
        "colab": {
          "base_uri": "https://localhost:8080/",
          "height": 51
        },
        "outputId": "4b8d7aaf-015b-4a26-e36d-f172a9ae9ff3"
      },
      "source": [
        "import os\n",
        "import datetime\n",
        "\n",
        "import IPython\n",
        "import IPython.display\n",
        "import matplotlib as mpl\n",
        "import matplotlib.pyplot as plt\n",
        "import numpy as np\n",
        "import pandas as pd\n",
        "import seaborn as sns\n",
        "import tensorflow as tf\n",
        "\n",
        "mpl.rcParams['figure.figsize'] = (14, 10)\n",
        "mpl.rcParams['axes.grid'] = False"
      ],
      "execution_count": 1,
      "outputs": [
        {
          "output_type": "stream",
          "text": [
            "/usr/local/lib/python3.6/dist-packages/statsmodels/tools/_testing.py:19: FutureWarning: pandas.util.testing is deprecated. Use the functions in the public API at pandas.testing instead.\n",
            "  import pandas.util.testing as tm\n"
          ],
          "name": "stderr"
        }
      ]
    },
    {
      "cell_type": "code",
      "metadata": {
        "id": "MfcCMSMYcRY8",
        "colab_type": "code",
        "colab": {
          "base_uri": "https://localhost:8080/",
          "height": 578
        },
        "outputId": "d7062bfa-2323-47a4-ef26-eeb599b0d631"
      },
      "source": [
        "!wget --no-check-certificate \\\n",
        "    https://raw.githubusercontent.com/Mo0nro2e/DNN_stock_forcast/master/bgr.us.txt \\\n",
        "    -O /tmp/bgr.txt\n",
        "\n",
        "!wget --no-check-certificate \\\n",
        "     https://raw.githubusercontent.com/Mo0nro2e/DNN_stock_forcast/master/jci.us.txt \\\n",
        "    -O /tmp/jci.txt\n",
        "\n",
        "!wget --no-check-certificate \\\n",
        "  https://raw.githubusercontent.com/Mo0nro2e/DNN_stock_forcast/master/prk.us.txt \\\n",
        "  -O /tmp/prk.txt"
      ],
      "execution_count": 2,
      "outputs": [
        {
          "output_type": "stream",
          "text": [
            "--2020-08-26 06:52:16--  https://raw.githubusercontent.com/Mo0nro2e/DNN_stock_forcast/master/bgr.us.txt\n",
            "Resolving raw.githubusercontent.com (raw.githubusercontent.com)... 151.101.0.133, 151.101.64.133, 151.101.128.133, ...\n",
            "Connecting to raw.githubusercontent.com (raw.githubusercontent.com)|151.101.0.133|:443... connected.\n",
            "HTTP request sent, awaiting response... 200 OK\n",
            "Length: 154740 (151K) [text/plain]\n",
            "Saving to: ‘/tmp/bgr.txt’\n",
            "\n",
            "/tmp/bgr.txt        100%[===================>] 151.11K  --.-KB/s    in 0.04s   \n",
            "\n",
            "2020-08-26 06:52:17 (3.56 MB/s) - ‘/tmp/bgr.txt’ saved [154740/154740]\n",
            "\n",
            "--2020-08-26 06:52:17--  https://raw.githubusercontent.com/Mo0nro2e/DNN_stock_forcast/master/jci.us.txt\n",
            "Resolving raw.githubusercontent.com (raw.githubusercontent.com)... 151.101.0.133, 151.101.64.133, 151.101.128.133, ...\n",
            "Connecting to raw.githubusercontent.com (raw.githubusercontent.com)|151.101.0.133|:443... connected.\n",
            "HTTP request sent, awaiting response... 200 OK\n",
            "Length: 373164 (364K) [text/plain]\n",
            "Saving to: ‘/tmp/jci.txt’\n",
            "\n",
            "/tmp/jci.txt        100%[===================>] 364.42K  --.-KB/s    in 0.06s   \n",
            "\n",
            "2020-08-26 06:52:17 (6.37 MB/s) - ‘/tmp/jci.txt’ saved [373164/373164]\n",
            "\n",
            "--2020-08-26 06:52:17--  https://raw.githubusercontent.com/Mo0nro2e/DNN_stock_forcast/master/prk.us.txt\n",
            "Resolving raw.githubusercontent.com (raw.githubusercontent.com)... 151.101.0.133, 151.101.64.133, 151.101.128.133, ...\n",
            "Connecting to raw.githubusercontent.com (raw.githubusercontent.com)|151.101.0.133|:443... connected.\n",
            "HTTP request sent, awaiting response... 200 OK\n",
            "Length: 152343 (149K) [text/plain]\n",
            "Saving to: ‘/tmp/prk.txt’\n",
            "\n",
            "/tmp/prk.txt        100%[===================>] 148.77K  --.-KB/s    in 0.04s   \n",
            "\n",
            "2020-08-26 06:52:18 (3.60 MB/s) - ‘/tmp/prk.txt’ saved [152343/152343]\n",
            "\n"
          ],
          "name": "stdout"
        }
      ]
    },
    {
      "cell_type": "code",
      "metadata": {
        "id": "YZ1yyyytcXoc",
        "colab_type": "code",
        "colab": {}
      },
      "source": [
        "bgr = \"/tmp/bgr.txt\"\n",
        "jci = \"/tmp/jci.txt\"\n",
        "prk = \"/tmp/prk.txt\"\n",
        "df_bgr = pd.read_csv(bgr, engine='python', header=0, sep=',')\n",
        "df_jci = pd.read_csv(jci, engine='python', header=0, sep=',')\n",
        "df_prk = pd.read_csv(prk, engine='python', header=0, sep=',')"
      ],
      "execution_count": 3,
      "outputs": []
    },
    {
      "cell_type": "code",
      "metadata": {
        "id": "fAyPrn-2dWfA",
        "colab_type": "code",
        "colab": {
          "base_uri": "https://localhost:8080/",
          "height": 204
        },
        "outputId": "348c6561-ea13-468c-b9fa-f77e46481f2c"
      },
      "source": [
        "df_jci.head()"
      ],
      "execution_count": 4,
      "outputs": [
        {
          "output_type": "execute_result",
          "data": {
            "text/html": [
              "<div>\n",
              "<style scoped>\n",
              "    .dataframe tbody tr th:only-of-type {\n",
              "        vertical-align: middle;\n",
              "    }\n",
              "\n",
              "    .dataframe tbody tr th {\n",
              "        vertical-align: top;\n",
              "    }\n",
              "\n",
              "    .dataframe thead th {\n",
              "        text-align: right;\n",
              "    }\n",
              "</style>\n",
              "<table border=\"1\" class=\"dataframe\">\n",
              "  <thead>\n",
              "    <tr style=\"text-align: right;\">\n",
              "      <th></th>\n",
              "      <th>Date</th>\n",
              "      <th>Open</th>\n",
              "      <th>High</th>\n",
              "      <th>Low</th>\n",
              "      <th>Close</th>\n",
              "      <th>Volume</th>\n",
              "      <th>OpenInt</th>\n",
              "    </tr>\n",
              "  </thead>\n",
              "  <tbody>\n",
              "    <tr>\n",
              "      <th>0</th>\n",
              "      <td>1987-12-30</td>\n",
              "      <td>1.7421</td>\n",
              "      <td>1.7935</td>\n",
              "      <td>1.7421</td>\n",
              "      <td>1.7935</td>\n",
              "      <td>210578</td>\n",
              "      <td>0</td>\n",
              "    </tr>\n",
              "    <tr>\n",
              "      <th>1</th>\n",
              "      <td>1987-12-31</td>\n",
              "      <td>1.7808</td>\n",
              "      <td>1.7808</td>\n",
              "      <td>1.7595</td>\n",
              "      <td>1.7808</td>\n",
              "      <td>203519</td>\n",
              "      <td>0</td>\n",
              "    </tr>\n",
              "    <tr>\n",
              "      <th>2</th>\n",
              "      <td>1988-01-04</td>\n",
              "      <td>1.7765</td>\n",
              "      <td>1.8236</td>\n",
              "      <td>1.7765</td>\n",
              "      <td>1.8022</td>\n",
              "      <td>252931</td>\n",
              "      <td>0</td>\n",
              "    </tr>\n",
              "    <tr>\n",
              "      <th>3</th>\n",
              "      <td>1988-01-05</td>\n",
              "      <td>1.8236</td>\n",
              "      <td>1.8836</td>\n",
              "      <td>1.8236</td>\n",
              "      <td>1.8449</td>\n",
              "      <td>531741</td>\n",
              "      <td>0</td>\n",
              "    </tr>\n",
              "    <tr>\n",
              "      <th>4</th>\n",
              "      <td>1988-01-06</td>\n",
              "      <td>1.8962</td>\n",
              "      <td>1.8962</td>\n",
              "      <td>1.8621</td>\n",
              "      <td>1.8836</td>\n",
              "      <td>826439</td>\n",
              "      <td>0</td>\n",
              "    </tr>\n",
              "  </tbody>\n",
              "</table>\n",
              "</div>"
            ],
            "text/plain": [
              "         Date    Open    High     Low   Close  Volume  OpenInt\n",
              "0  1987-12-30  1.7421  1.7935  1.7421  1.7935  210578        0\n",
              "1  1987-12-31  1.7808  1.7808  1.7595  1.7808  203519        0\n",
              "2  1988-01-04  1.7765  1.8236  1.7765  1.8022  252931        0\n",
              "3  1988-01-05  1.8236  1.8836  1.8236  1.8449  531741        0\n",
              "4  1988-01-06  1.8962  1.8962  1.8621  1.8836  826439        0"
            ]
          },
          "metadata": {
            "tags": []
          },
          "execution_count": 4
        }
      ]
    },
    {
      "cell_type": "code",
      "metadata": {
        "id": "mi7O92u_ce3H",
        "colab_type": "code",
        "colab": {
          "base_uri": "https://localhost:8080/",
          "height": 557
        },
        "outputId": "4ab433d8-957c-49a9-b124-9ae704fb533f"
      },
      "source": [
        "date_time = df_jci['Date']\n",
        "df_jci = df_jci.drop(['OpenInt','Date'], axis=1)\n",
        "plot_cols = ['High', 'Low', 'Open']\n",
        "plot_features = df_jci[plot_cols]\n",
        "plot_features.index = date_time\n",
        "_ = plot_features.plot(subplots=True)\n",
        "\n",
        "plot_features = df_jci[plot_cols][:480]\n",
        "plot_features.index = date_time[:480]\n",
        "_ = plot_features.plot(subplots=True)"
      ],
      "execution_count": 5,
      "outputs": [
        {
          "output_type": "display_data",
          "data": {
            "image/png": "[encoded data removed]",
            "text/plain": [
              "<Figure size 432x288 with 3 Axes>"
            ]
          },
          "metadata": {
            "tags": [],
            "needs_background": "light"
          }
        },
        {
          "output_type": "display_data",
          "data": {
            "image/png": "[encoded data removed]",
            "text/plain": [
              "<Figure size 432x288 with 3 Axes>"
            ]
          },
          "metadata": {
            "tags": [],
            "needs_background": "light"
          }
        }
      ]
    },
    {
      "cell_type": "code",
      "metadata": {
        "id": "c2yG1D84iuAI",
        "colab_type": "code",
        "colab": {
          "base_uri": "https://localhost:8080/",
          "height": 204
        },
        "outputId": "ab7ef1bb-2ec6-4249-80bb-ccd9b6f0fd83"
      },
      "source": [
        "df_jci.describe().transpose()"
      ],
      "execution_count": 6,
      "outputs": [
        {
          "output_type": "execute_result",
          "data": {
            "text/html": [
              "<div>\n",
              "<style scoped>\n",
              "    .dataframe tbody tr th:only-of-type {\n",
              "        vertical-align: middle;\n",
              "    }\n",
              "\n",
              "    .dataframe tbody tr th {\n",
              "        vertical-align: top;\n",
              "    }\n",
              "\n",
              "    .dataframe thead th {\n",
              "        text-align: right;\n",
              "    }\n",
              "</style>\n",
              "<table border=\"1\" class=\"dataframe\">\n",
              "  <thead>\n",
              "    <tr style=\"text-align: right;\">\n",
              "      <th></th>\n",
              "      <th>count</th>\n",
              "      <th>mean</th>\n",
              "      <th>std</th>\n",
              "      <th>min</th>\n",
              "      <th>25%</th>\n",
              "      <th>50%</th>\n",
              "      <th>75%</th>\n",
              "      <th>max</th>\n",
              "    </tr>\n",
              "  </thead>\n",
              "  <tbody>\n",
              "    <tr>\n",
              "      <th>Open</th>\n",
              "      <td>7527.0</td>\n",
              "      <td>1.811261e+01</td>\n",
              "      <td>1.262045e+01</td>\n",
              "      <td>1.6864</td>\n",
              "      <td>4.610100e+00</td>\n",
              "      <td>17.686</td>\n",
              "      <td>2.641300e+01</td>\n",
              "      <td>4.767300e+01</td>\n",
              "    </tr>\n",
              "    <tr>\n",
              "      <th>High</th>\n",
              "      <td>7527.0</td>\n",
              "      <td>1.832413e+01</td>\n",
              "      <td>1.273799e+01</td>\n",
              "      <td>1.7124</td>\n",
              "      <td>4.644450e+00</td>\n",
              "      <td>17.895</td>\n",
              "      <td>2.683250e+01</td>\n",
              "      <td>4.781000e+01</td>\n",
              "    </tr>\n",
              "    <tr>\n",
              "      <th>Low</th>\n",
              "      <td>7527.0</td>\n",
              "      <td>1.789395e+01</td>\n",
              "      <td>1.249300e+01</td>\n",
              "      <td>1.6438</td>\n",
              "      <td>4.584700e+00</td>\n",
              "      <td>17.489</td>\n",
              "      <td>2.586750e+01</td>\n",
              "      <td>4.615100e+01</td>\n",
              "    </tr>\n",
              "    <tr>\n",
              "      <th>Close</th>\n",
              "      <td>7527.0</td>\n",
              "      <td>1.811776e+01</td>\n",
              "      <td>1.261700e+01</td>\n",
              "      <td>1.6864</td>\n",
              "      <td>4.610100e+00</td>\n",
              "      <td>17.713</td>\n",
              "      <td>2.641300e+01</td>\n",
              "      <td>4.774100e+01</td>\n",
              "    </tr>\n",
              "    <tr>\n",
              "      <th>Volume</th>\n",
              "      <td>7527.0</td>\n",
              "      <td>7.993143e+06</td>\n",
              "      <td>1.364385e+07</td>\n",
              "      <td>0.0000</td>\n",
              "      <td>1.438476e+06</td>\n",
              "      <td>4940807.000</td>\n",
              "      <td>1.035742e+07</td>\n",
              "      <td>3.278264e+08</td>\n",
              "    </tr>\n",
              "  </tbody>\n",
              "</table>\n",
              "</div>"
            ],
            "text/plain": [
              "         count          mean  ...           75%           max\n",
              "Open    7527.0  1.811261e+01  ...  2.641300e+01  4.767300e+01\n",
              "High    7527.0  1.832413e+01  ...  2.683250e+01  4.781000e+01\n",
              "Low     7527.0  1.789395e+01  ...  2.586750e+01  4.615100e+01\n",
              "Close   7527.0  1.811776e+01  ...  2.641300e+01  4.774100e+01\n",
              "Volume  7527.0  7.993143e+06  ...  1.035742e+07  3.278264e+08\n",
              "\n",
              "[5 rows x 8 columns]"
            ]
          },
          "metadata": {
            "tags": []
          },
          "execution_count": 6
        }
      ]
    },
    {
      "cell_type": "code",
      "metadata": {
        "id": "wehX568fi2O-",
        "colab_type": "code",
        "colab": {}
      },
      "source": [
        "column_indices = {name: i for i, name in enumerate(df_jci.columns)}\n",
        "\n",
        "n = len(df_jci)\n",
        "train_df = df_jci[0:int(n*0.7)]\n",
        "val_df = df_jci[int(n*0.7):int(n*0.9)]\n",
        "test_df = df_jci[int(n*0.9):]\n",
        "\n",
        "num_features = df_jci.shape[1]"
      ],
      "execution_count": 12,
      "outputs": []
    },
    {
      "cell_type": "code",
      "metadata": {
        "id": "IaXzVN8gkYqR",
        "colab_type": "code",
        "colab": {
          "base_uri": "https://localhost:8080/",
          "height": 204
        },
        "outputId": "7450c100-3c51-4d12-e71a-f62c0eaa7a4d"
      },
      "source": [
        "train_df.head()"
      ],
      "execution_count": 13,
      "outputs": [
        {
          "output_type": "execute_result",
          "data": {
            "text/html": [
              "<div>\n",
              "<style scoped>\n",
              "    .dataframe tbody tr th:only-of-type {\n",
              "        vertical-align: middle;\n",
              "    }\n",
              "\n",
              "    .dataframe tbody tr th {\n",
              "        vertical-align: top;\n",
              "    }\n",
              "\n",
              "    .dataframe thead th {\n",
              "        text-align: right;\n",
              "    }\n",
              "</style>\n",
              "<table border=\"1\" class=\"dataframe\">\n",
              "  <thead>\n",
              "    <tr style=\"text-align: right;\">\n",
              "      <th></th>\n",
              "      <th>Open</th>\n",
              "      <th>High</th>\n",
              "      <th>Low</th>\n",
              "      <th>Close</th>\n",
              "      <th>Volume</th>\n",
              "    </tr>\n",
              "  </thead>\n",
              "  <tbody>\n",
              "    <tr>\n",
              "      <th>0</th>\n",
              "      <td>1.7421</td>\n",
              "      <td>1.7935</td>\n",
              "      <td>1.7421</td>\n",
              "      <td>1.7935</td>\n",
              "      <td>210578</td>\n",
              "    </tr>\n",
              "    <tr>\n",
              "      <th>1</th>\n",
              "      <td>1.7808</td>\n",
              "      <td>1.7808</td>\n",
              "      <td>1.7595</td>\n",
              "      <td>1.7808</td>\n",
              "      <td>203519</td>\n",
              "    </tr>\n",
              "    <tr>\n",
              "      <th>2</th>\n",
              "      <td>1.7765</td>\n",
              "      <td>1.8236</td>\n",
              "      <td>1.7765</td>\n",
              "      <td>1.8022</td>\n",
              "      <td>252931</td>\n",
              "    </tr>\n",
              "    <tr>\n",
              "      <th>3</th>\n",
              "      <td>1.8236</td>\n",
              "      <td>1.8836</td>\n",
              "      <td>1.8236</td>\n",
              "      <td>1.8449</td>\n",
              "      <td>531741</td>\n",
              "    </tr>\n",
              "    <tr>\n",
              "      <th>4</th>\n",
              "      <td>1.8962</td>\n",
              "      <td>1.8962</td>\n",
              "      <td>1.8621</td>\n",
              "      <td>1.8836</td>\n",
              "      <td>826439</td>\n",
              "    </tr>\n",
              "  </tbody>\n",
              "</table>\n",
              "</div>"
            ],
            "text/plain": [
              "     Open    High     Low   Close  Volume\n",
              "0  1.7421  1.7935  1.7421  1.7935  210578\n",
              "1  1.7808  1.7808  1.7595  1.7808  203519\n",
              "2  1.7765  1.8236  1.7765  1.8022  252931\n",
              "3  1.8236  1.8836  1.8236  1.8449  531741\n",
              "4  1.8962  1.8962  1.8621  1.8836  826439"
            ]
          },
          "metadata": {
            "tags": []
          },
          "execution_count": 13
        }
      ]
    },
    {
      "cell_type": "code",
      "metadata": {
        "id": "vfuJzQCqkrKK",
        "colab_type": "code",
        "colab": {}
      },
      "source": [
        "train_mean = train_df.mean()\n",
        "train_std = train_df.std()\n",
        "\n",
        "train_df = (train_df - train_mean) / train_std\n",
        "val_df = (val_df - train_mean) / train_std\n",
        "test_df = (test_df - train_mean) / train_std"
      ],
      "execution_count": 14,
      "outputs": []
    },
    {
      "cell_type": "code",
      "metadata": {
        "id": "cIaAAepjksri",
        "colab_type": "code",
        "colab": {
          "base_uri": "https://localhost:8080/",
          "height": 415
        },
        "outputId": "391139ee-1cdd-47ea-cfcf-158ed7375f8b"
      },
      "source": [
        "df_std = (df_jci - train_mean) / train_std\n",
        "df_std = df_std.melt(var_name='Column', value_name='Normalized')\n",
        "plt.figure(figsize=(12, 6))\n",
        "ax = sns.violinplot(x='Column', y='Normalized', data=df_std)\n",
        "_ = ax.set_xticklabels(df_jci.keys(), rotation=90)"
      ],
      "execution_count": 17,
      "outputs": [
        {
          "output_type": "display_data",
          "data": {
            "image/png": "[encoded data removed]",
            "text/plain": [
              "<Figure size 864x432 with 1 Axes>"
            ]
          },
          "metadata": {
            "tags": [],
            "needs_background": "light"
          }
        }
      ]
    },
    {
      "cell_type": "code",
      "metadata": {
        "id": "-iFmNX7pmois",
        "colab_type": "code",
        "colab": {}
      },
      "source": [
        "class WindowGenerator():\n",
        "  def __init__(self, input_width, label_width, shift,\n",
        "               train_df=train_df, val_df=val_df, test_df=test_df,\n",
        "               label_columns=None):\n",
        "    # Store the raw data.\n",
        "    self.train_df = train_df\n",
        "    self.val_df = val_df\n",
        "    self.test_df = test_df\n",
        "\n",
        "    # Work out the label column indices.\n",
        "    self.label_columns = label_columns\n",
        "    if label_columns is not None:\n",
        "      self.label_columns_indices = {name: i for i, name in\n",
        "                                    enumerate(label_columns)}\n",
        "    self.column_indices = {name: i for i, name in\n",
        "                           enumerate(train_df.columns)}\n",
        "\n",
        "    # Work out the window parameters.\n",
        "    self.input_width = input_width\n",
        "    self.label_width = label_width\n",
        "    self.shift = shift\n",
        "\n",
        "    self.total_window_size = input_width + shift\n",
        "\n",
        "    self.input_slice = slice(0, input_width)\n",
        "    self.input_indices = np.arange(self.total_window_size)[self.input_slice]\n",
        "\n",
        "    self.label_start = self.total_window_size - self.label_width\n",
        "    self.labels_slice = slice(self.label_start, None)\n",
        "    self.label_indices = np.arange(self.total_window_size)[self.labels_slice]\n",
        "\n",
        "  def __repr__(self):\n",
        "    return '\\n'.join([\n",
        "        f'Total window size: {self.total_window_size}',\n",
        "        f'Input indices: {self.input_indices}',\n",
        "        f'Label indices: {self.label_indices}',\n",
        "        f'Label column name(s): {self.label_columns}'])"
      ],
      "execution_count": 18,
      "outputs": []
    },
    {
      "cell_type": "code",
      "metadata": {
        "id": "shukXzjHnR3x",
        "colab_type": "code",
        "colab": {
          "base_uri": "https://localhost:8080/",
          "height": 102
        },
        "outputId": "cad1673b-a3f6-4e9a-a720-b1d972a9d5fc"
      },
      "source": [
        "w1 = WindowGenerator(input_width=29, label_width=1, shift=1,\n",
        "                     label_columns=['Open'])\n",
        "\n",
        "w1"
      ],
      "execution_count": 21,
      "outputs": [
        {
          "output_type": "execute_result",
          "data": {
            "text/plain": [
              "Total window size: 30\n",
              "Input indices: [ 0  1  2  3  4  5  6  7  8  9 10 11 12 13 14 15 16 17 18 19 20 21 22 23\n",
              " 24 25 26 27 28]\n",
              "Label indices: [29]\n",
              "Label column name(s): ['Open']"
            ]
          },
          "metadata": {
            "tags": []
          },
          "execution_count": 21
        }
      ]
    },
    {
      "cell_type": "code",
      "metadata": {
        "id": "jIzOY6fEoW9u",
        "colab_type": "code",
        "colab": {}
      },
      "source": [
        "def split_window(self, features):\n",
        "  inputs = features[:, self.input_slice, :]\n",
        "  labels = features[:, self.labels_slice, :]\n",
        "  if self.label_columns is not None:\n",
        "    labels = tf.stack(\n",
        "        [labels[:, :, self.column_indices[name]] for name in self.label_columns],\n",
        "        axis=-1)\n",
        "\n",
        "  # Slicing doesn't preserve static shape information, so set the shapes\n",
        "  # manually. This way the `tf.data.Datasets` are easier to inspect.\n",
        "  inputs.set_shape([None, self.input_width, None])\n",
        "  labels.set_shape([None, self.label_width, None])\n",
        "\n",
        "  return inputs, labels\n",
        "\n",
        "WindowGenerator.split_window = split_window"
      ],
      "execution_count": 22,
      "outputs": []
    },
    {
      "cell_type": "code",
      "metadata": {
        "id": "TMWiCfa5ovdt",
        "colab_type": "code",
        "colab": {
          "base_uri": "https://localhost:8080/",
          "height": 85
        },
        "outputId": "544398c7-010f-481a-8a44-d28a6da42a1e"
      },
      "source": [
        "# Stack three slices, the length of the total window:\n",
        "example_window = tf.stack([np.array(train_df[:w1.total_window_size]),\n",
        "                           np.array(train_df[100:100+w1.total_window_size]),\n",
        "                           np.array(train_df[200:200+w1.total_window_size])])\n",
        "\n",
        "\n",
        "example_inputs, example_labels = w1.split_window(example_window)\n",
        "\n",
        "print('All shapes are: (batch, time, features)')\n",
        "print(f'Window shape: {example_window.shape}')\n",
        "print(f'Inputs shape: {example_inputs.shape}')\n",
        "print(f'labels shape: {example_labels.shape}')"
      ],
      "execution_count": 24,
      "outputs": [
        {
          "output_type": "stream",
          "text": [
            "All shapes are: (batch, time, features)\n",
            "Window shape: (3, 30, 5)\n",
            "Inputs shape: (3, 29, 5)\n",
            "labels shape: (3, 1, 1)\n"
          ],
          "name": "stdout"
        }
      ]
    },
    {
      "cell_type": "code",
      "metadata": {
        "id": "TbOWt8iVqJHg",
        "colab_type": "code",
        "colab": {}
      },
      "source": [
        "def make_dataset(self, data):\n",
        "  data = np.array(data, dtype=np.float64)\n",
        "  ds = tf.keras.preprocessing.timeseries_dataset_from_array(\n",
        "      data=data,\n",
        "      targets=None,\n",
        "      sequence_length=self.total_window_size,\n",
        "      sequence_stride=1,\n",
        "      shuffle=True,\n",
        "      batch_size=32,)\n",
        "\n",
        "  ds = ds.map(self.split_window)\n",
        "\n",
        "  return ds\n",
        "\n",
        "WindowGenerator.make_dataset = make_dataset"
      ],
      "execution_count": 25,
      "outputs": []
    },
    {
      "cell_type": "code",
      "metadata": {
        "id": "Zv7Uy9Q6qUl4",
        "colab_type": "code",
        "colab": {}
      },
      "source": [
        "@property\n",
        "def train(self):\n",
        "  return self.make_dataset(self.train_df)\n",
        "\n",
        "@property\n",
        "def val(self):\n",
        "  return self.make_dataset(self.val_df)\n",
        "\n",
        "@property\n",
        "def test(self):\n",
        "  return self.make_dataset(self.test_df)\n",
        "\n",
        "@property\n",
        "def example(self):\n",
        "  \"\"\"Get and cache an example batch of `inputs, labels` for plotting.\"\"\"\n",
        "  result = getattr(self, '_example', None)\n",
        "  if result is None:\n",
        "    # No example batch was found, so get one from the `.train` dataset\n",
        "    result = next(iter(self.train))\n",
        "    # And cache it for next time\n",
        "    self._example = result\n",
        "  return result\n",
        "\n",
        "WindowGenerator.train = train\n",
        "WindowGenerator.val = val\n",
        "WindowGenerator.test = test\n",
        "WindowGenerator.example = example"
      ],
      "execution_count": 26,
      "outputs": []
    },
    {
      "cell_type": "code",
      "metadata": {
        "id": "RiG7r6wMq2Cd",
        "colab_type": "code",
        "colab": {}
      },
      "source": [
        "class Baseline(tf.keras.Model):\n",
        "  def __init__(self, label_index=None):\n",
        "    super().__init__()\n",
        "    self.label_index = label_index\n",
        "\n",
        "  def call(self, inputs):\n",
        "    if self.label_index is None:\n",
        "      return inputs\n",
        "    result = inputs[:, :, self.label_index]\n",
        "    return result[:, :, tf.newaxis]"
      ],
      "execution_count": 28,
      "outputs": []
    },
    {
      "cell_type": "code",
      "metadata": {
        "id": "4LQxKz56wvuH",
        "colab_type": "code",
        "colab": {
          "base_uri": "https://localhost:8080/",
          "height": 34
        },
        "outputId": "c31c4101-0472-4008-d3f6-1fc0ab61ecd9"
      },
      "source": [
        "single_step_window = WindowGenerator(\n",
        "    input_width=1, label_width=1, shift=1,\n",
        "    label_columns=['Open'])\n",
        "single_step_window\n",
        "\n",
        "baseline = Baseline(label_index=column_indices['Open'])\n",
        "\n",
        "baseline.compile(loss=tf.losses.MeanSquaredError(),\n",
        "                 metrics=[tf.metrics.MeanAbsoluteError()])\n",
        "\n",
        "val_performance = {}\n",
        "performance = {}\n",
        "val_performance['Baseline'] = baseline.evaluate(single_step_window.val)\n",
        "performance['Baseline'] = baseline.evaluate(single_step_window.test, verbose=0)"
      ],
      "execution_count": 30,
      "outputs": [
        {
          "output_type": "stream",
          "text": [
            "48/48 [==============================] - 0s 3ms/step - loss: 9.9910e-04 - mean_absolute_error: 0.0235\n"
          ],
          "name": "stdout"
        }
      ]
    },
    {
      "cell_type": "code",
      "metadata": {
        "id": "kzI1SIjexB_h",
        "colab_type": "code",
        "colab": {
          "base_uri": "https://localhost:8080/",
          "height": 85
        },
        "outputId": "aeafd01b-7232-462b-e9b6-6e8358e85c84"
      },
      "source": [
        "wide_window = WindowGenerator(\n",
        "    input_width=24, label_width=24, shift=1,\n",
        "    label_columns=['Open'])\n",
        "\n",
        "wide_window"
      ],
      "execution_count": 31,
      "outputs": [
        {
          "output_type": "execute_result",
          "data": {
            "text/plain": [
              "Total window size: 25\n",
              "Input indices: [ 0  1  2  3  4  5  6  7  8  9 10 11 12 13 14 15 16 17 18 19 20 21 22 23]\n",
              "Label indices: [ 1  2  3  4  5  6  7  8  9 10 11 12 13 14 15 16 17 18 19 20 21 22 23 24]\n",
              "Label column name(s): ['Open']"
            ]
          },
          "metadata": {
            "tags": []
          },
          "execution_count": 31
        }
      ]
    },
    {
      "cell_type": "code",
      "metadata": {
        "id": "AsA6cHG1xYtk",
        "colab_type": "code",
        "colab": {
          "base_uri": "https://localhost:8080/",
          "height": 51
        },
        "outputId": "b4368d33-ed01-4128-a664-e5f8af341bf4"
      },
      "source": [
        "print('Input shape:', single_step_window.example[0].shape)\n",
        "print('Output shape:', baseline(single_step_window.example[0]).shape)"
      ],
      "execution_count": 32,
      "outputs": [
        {
          "output_type": "stream",
          "text": [
            "Input shape: (32, 1, 5)\n",
            "Output shape: (32, 1, 1)\n"
          ],
          "name": "stdout"
        }
      ]
    },
    {
      "cell_type": "code",
      "metadata": {
        "id": "xn5CiSLUxmS_",
        "colab_type": "code",
        "colab": {}
      },
      "source": [
        "def plot(self, model=None, plot_col='Open', max_subplots=3):\n",
        "  inputs, labels = self.example\n",
        "  plt.figure(figsize=(12, 8))\n",
        "  plot_col_index = self.column_indices[plot_col]\n",
        "  max_n = min(max_subplots, len(inputs))\n",
        "  for n in range(max_n):\n",
        "    plt.subplot(3, 1, n+1)\n",
        "    plt.ylabel(f'{plot_col} [normed]')\n",
        "    plt.plot(self.input_indices, inputs[n, :, plot_col_index],\n",
        "             label='Inputs', marker='.', zorder=-10)\n",
        "\n",
        "    if self.label_columns:\n",
        "      label_col_index = self.label_columns_indices.get(plot_col, None)\n",
        "    else:\n",
        "      label_col_index = plot_col_index\n",
        "\n",
        "    if label_col_index is None:\n",
        "      continue\n",
        "\n",
        "    plt.scatter(self.label_indices, labels[n, :, label_col_index],\n",
        "                edgecolors='k', label='Labels', c='#2ca02c', s=64)\n",
        "    if model is not None:\n",
        "      predictions = model(inputs)\n",
        "      plt.scatter(self.label_indices, predictions[n, :, label_col_index],\n",
        "                  marker='X', edgecolors='k', label='Predictions',\n",
        "                  c='#ff7f0e', s=64)\n",
        "\n",
        "    if n == 0:\n",
        "      plt.legend()\n",
        "\n",
        "  plt.xlabel('Date')\n",
        "\n",
        "WindowGenerator.plot = plot"
      ],
      "execution_count": 35,
      "outputs": []
    },
    {
      "cell_type": "code",
      "metadata": {
        "id": "2bZLPCkjxaRE",
        "colab_type": "code",
        "colab": {
          "base_uri": "https://localhost:8080/",
          "height": 497
        },
        "outputId": "db40738a-01e1-4189-fee1-94b1fed9548a"
      },
      "source": [
        "wide_window.plot(baseline)"
      ],
      "execution_count": 36,
      "outputs": [
        {
          "output_type": "display_data",
          "data": {
            "image/png": "[encoded data removed]",
            "text/plain": [
              "<Figure size 864x576 with 3 Axes>"
            ]
          },
          "metadata": {
            "tags": [],
            "needs_background": "light"
          }
        }
      ]
    }
  ]
}